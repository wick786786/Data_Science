{
  "nbformat": 4,
  "nbformat_minor": 0,
  "metadata": {
    "colab": {
      "provenance": []
    },
    "kernelspec": {
      "name": "python3",
      "display_name": "Python 3"
    },
    "language_info": {
      "name": "python"
    }
  },
  "cells": [
    {
      "cell_type": "code",
      "execution_count": 1,
      "metadata": {
        "colab": {
          "base_uri": "https://localhost:8080/"
        },
        "id": "0_6LfQWBYRhh",
        "outputId": "d361d522-35d5-4f48-e4f7-113080f402ee"
      },
      "outputs": [
        {
          "output_type": "execute_result",
          "data": {
            "text/plain": [
              "2"
            ]
          },
          "metadata": {},
          "execution_count": 1
        }
      ],
      "source": [
        "\n",
        "1+1"
      ]
    },
    {
      "cell_type": "markdown",
      "source": [
        "BASICS\n"
      ],
      "metadata": {
        "id": "3yl_m7nuYezV"
      }
    },
    {
      "cell_type": "code",
      "source": [
        "#VARIOUS WAYS OF PRINTING\n",
        "print('hello')"
      ],
      "metadata": {
        "colab": {
          "base_uri": "https://localhost:8080/"
        },
        "id": "l2r4xdVfYipR",
        "outputId": "ec598f5a-60de-4ff4-d980-f8fe39584c9f"
      },
      "execution_count": 2,
      "outputs": [
        {
          "output_type": "stream",
          "name": "stdout",
          "text": [
            "hello\n"
          ]
        }
      ]
    },
    {
      "cell_type": "code",
      "source": [
        "first_name='satyam'\n",
        "last_name='yadav'"
      ],
      "metadata": {
        "id": "rKBAEauJZfUc"
      },
      "execution_count": 3,
      "outputs": []
    },
    {
      "cell_type": "code",
      "source": [
        "print('My first Name is {} and last name is {}'.format(first_name,last_name))"
      ],
      "metadata": {
        "colab": {
          "base_uri": "https://localhost:8080/"
        },
        "id": "RuXTG9o4ZWtc",
        "outputId": "aceb2a7f-18c7-4fad-8cab-5a7b2df9104b"
      },
      "execution_count": 4,
      "outputs": [
        {
          "output_type": "stream",
          "name": "stdout",
          "text": [
            "My first Name is satyam and last name is yadav\n"
          ]
        }
      ]
    },
    {
      "cell_type": "code",
      "source": [
        "print('My first Name is {first} and last name is {last}'.format(first=first_name,last=last_name))"
      ],
      "metadata": {
        "colab": {
          "base_uri": "https://localhost:8080/"
        },
        "id": "Eqk7EIqJZtXw",
        "outputId": "14f15ce2-5465-4315-c040-f0c5df04738b"
      },
      "execution_count": 5,
      "outputs": [
        {
          "output_type": "stream",
          "name": "stdout",
          "text": [
            "My first Name is satyam and last name is yadav\n"
          ]
        }
      ]
    },
    {
      "cell_type": "code",
      "source": [
        "len('satyam')"
      ],
      "metadata": {
        "colab": {
          "base_uri": "https://localhost:8080/"
        },
        "id": "UqVOg5mxZ8Wi",
        "outputId": "0e543130-c779-4056-e51d-bf47c90b1bdc"
      },
      "execution_count": 6,
      "outputs": [
        {
          "output_type": "execute_result",
          "data": {
            "text/plain": [
              "6"
            ]
          },
          "metadata": {},
          "execution_count": 6
        }
      ]
    },
    {
      "cell_type": "markdown",
      "source": [
        "# **SOME BASIC STRING FUNCTIONS OF PYTHON CHECK GOOGLE**"
      ],
      "metadata": {
        "id": "_3G8AjSpaxhH"
      }
    },
    {
      "cell_type": "markdown",
      "source": [
        "# **LIST**\n",
        "it is mutable and exchangable it contains any element inside numbers alpahabets and float any combination"
      ],
      "metadata": {
        "id": "K6oKVNvca7m8"
      }
    },
    {
      "cell_type": "code",
      "source": [
        "my_list=[1,2,3,4,5]\n",
        "print(my_list)"
      ],
      "metadata": {
        "colab": {
          "base_uri": "https://localhost:8080/"
        },
        "id": "nq738eDhawZd",
        "outputId": "f159f461-e790-47e4-b0f2-ca5c6d212cf7"
      },
      "execution_count": 7,
      "outputs": [
        {
          "output_type": "stream",
          "name": "stdout",
          "text": [
            "[1, 2, 3, 4, 5]\n"
          ]
        }
      ]
    },
    {
      "cell_type": "code",
      "source": [
        "my_list=['satyam',4.0,4]\n",
        "print(my_list);"
      ],
      "metadata": {
        "id": "Tn8TUOUSbY_C"
      },
      "execution_count": null,
      "outputs": []
    },
    {
      "cell_type": "code",
      "source": [
        "#to get subaaray or list element from range to some range\n",
        "my_list[1:] # after colan nothing so it will take entire length\n",
        "my_list[1:2] # takes just one element that is element at index 1"
      ],
      "metadata": {
        "colab": {
          "base_uri": "https://localhost:8080/"
        },
        "id": "X3sVfDqidC6r",
        "outputId": "d366e805-d32b-419e-c5af-8c677dcd3a18"
      },
      "execution_count": 15,
      "outputs": [
        {
          "output_type": "execute_result",
          "data": {
            "text/plain": [
              "[4.0]"
            ]
          },
          "metadata": {},
          "execution_count": 15
        }
      ]
    },
    {
      "cell_type": "code",
      "source": [
        "#building empty list\n",
        "lst=list()"
      ],
      "metadata": {
        "id": "ev-MhA9ubkvK"
      },
      "execution_count": 9,
      "outputs": []
    },
    {
      "cell_type": "code",
      "source": [
        "#length of list\n",
        "len(lst)"
      ],
      "metadata": {
        "id": "H0ZyzWzPbyed"
      },
      "execution_count": null,
      "outputs": []
    },
    {
      "cell_type": "code",
      "source": [
        "#append in list --> appends at last\n",
        "lst.append('satyam')\n",
        "lst.append(23)\n",
        "lst.append('CCE')\n",
        "lst"
      ],
      "metadata": {
        "colab": {
          "base_uri": "https://localhost:8080/"
        },
        "id": "hJ81pRoFb_m0",
        "outputId": "f7a6a7a1-6f0c-484c-b30c-92f1b955b6f2"
      },
      "execution_count": 12,
      "outputs": [
        {
          "output_type": "execute_result",
          "data": {
            "text/plain": [
              "['satyam', 23, 'CCE', 'satyam', 23, 'CCE']"
            ]
          },
          "metadata": {},
          "execution_count": 12
        }
      ]
    },
    {
      "cell_type": "code",
      "source": [
        "#adding list in list\n",
        "lst.append(['john','tommy'])\n",
        "lst"
      ],
      "metadata": {
        "colab": {
          "base_uri": "https://localhost:8080/"
        },
        "id": "rdODsLy2dmTE",
        "outputId": "b6df0691-cc5c-4513-a00f-c113a59273af"
      },
      "execution_count": 16,
      "outputs": [
        {
          "output_type": "execute_result",
          "data": {
            "text/plain": [
              "['satyam', 23, 'CSE', 'CCE', 'satyam', 23, 'CCE', ['john', 'tommy']]"
            ]
          },
          "metadata": {},
          "execution_count": 16
        }
      ]
    },
    {
      "cell_type": "code",
      "source": [
        "#insert---> to insert at any index and shifts by one the remaining element\n",
        "lst.insert(2,'CSE')\n",
        "lst"
      ],
      "metadata": {
        "colab": {
          "base_uri": "https://localhost:8080/"
        },
        "id": "IqN1CP0_cRpl",
        "outputId": "633c4078-b265-4ab5-8003-5189afe6e9e4"
      },
      "execution_count": 13,
      "outputs": [
        {
          "output_type": "execute_result",
          "data": {
            "text/plain": [
              "['satyam', 23, 'CSE', 'CCE', 'satyam', 23, 'CCE']"
            ]
          },
          "metadata": {},
          "execution_count": 13
        }
      ]
    },
    {
      "cell_type": "code",
      "source": [
        "#extend---> to add more than one element in one go\n",
        "lst=[1,2,3,4,5,6]\n",
        "print('list before extending',lst)\n",
        "\n",
        "####now i want to add 7 8 9 in one go\n",
        "lst.extend([7,8,9])\n",
        "print('list after extending ',lst)\n",
        "\n",
        "\n"
      ],
      "metadata": {
        "colab": {
          "base_uri": "https://localhost:8080/"
        },
        "id": "GhVQHk_FeVq0",
        "outputId": "23d5b619-fb46-4919-879b-73a151c2815b"
      },
      "execution_count": 19,
      "outputs": [
        {
          "output_type": "stream",
          "name": "stdout",
          "text": [
            "list before extending [1, 2, 3, 4, 5, 6]\n",
            "list after extending  [1, 2, 3, 4, 5, 6, 7, 8, 9]\n"
          ]
        }
      ]
    },
    {
      "cell_type": "markdown",
      "source": [
        "**various operation on list**"
      ],
      "metadata": {
        "id": "zEJOdkg2fPVx"
      }
    },
    {
      "cell_type": "code",
      "source": [
        "sum(lst)"
      ],
      "metadata": {
        "colab": {
          "base_uri": "https://localhost:8080/"
        },
        "id": "KxYu_4hmfUr3",
        "outputId": "56a91c23-8e2c-4777-9f64-cc8cd68a71e7"
      },
      "execution_count": 20,
      "outputs": [
        {
          "output_type": "execute_result",
          "data": {
            "text/plain": [
              "45"
            ]
          },
          "metadata": {},
          "execution_count": 20
        }
      ]
    },
    {
      "cell_type": "markdown",
      "source": [
        "**pop**\n",
        "by default it pops the last element\n",
        "u can specify some index like pop(ith)"
      ],
      "metadata": {
        "id": "SeDDKeN7fbov"
      }
    },
    {
      "cell_type": "code",
      "source": [
        "lst.pop()"
      ],
      "metadata": {
        "colab": {
          "base_uri": "https://localhost:8080/"
        },
        "id": "lY-plSZpfZBS",
        "outputId": "e49ae714-8a72-4b9c-a1ac-d256caf4d5c0"
      },
      "execution_count": 21,
      "outputs": [
        {
          "output_type": "execute_result",
          "data": {
            "text/plain": [
              "9"
            ]
          },
          "metadata": {},
          "execution_count": 21
        }
      ]
    },
    {
      "cell_type": "code",
      "source": [
        "lst.pop(3)"
      ],
      "metadata": {
        "colab": {
          "base_uri": "https://localhost:8080/"
        },
        "id": "FWqFC6dFftUP",
        "outputId": "711fa951-9ccb-4cb5-f288-346d4f1251d2"
      },
      "execution_count": 22,
      "outputs": [
        {
          "output_type": "execute_result",
          "data": {
            "text/plain": [
              "4"
            ]
          },
          "metadata": {},
          "execution_count": 22
        }
      ]
    },
    {
      "cell_type": "markdown",
      "source": [
        "count total occurance of element in a list\n"
      ],
      "metadata": {
        "id": "ITNuDdSigTnE"
      }
    },
    {
      "cell_type": "code",
      "source": [
        "lst.count(1)"
      ],
      "metadata": {
        "colab": {
          "base_uri": "https://localhost:8080/"
        },
        "id": "2AvHgO3ffxNW",
        "outputId": "90dbbc30-554c-4f29-d11a-74da3e54e4fd"
      },
      "execution_count": 23,
      "outputs": [
        {
          "output_type": "execute_result",
          "data": {
            "text/plain": [
              "1"
            ]
          },
          "metadata": {},
          "execution_count": 23
        }
      ]
    },
    {
      "cell_type": "markdown",
      "source": [
        "find the first occurance of the element in the given range of indixes\n"
      ],
      "metadata": {
        "id": "OO0QK-slgaxr"
      }
    },
    {
      "cell_type": "code",
      "source": [
        "lst.index(1,0,len(lst)-1) # first para is the element and other 2 are range\n",
        "      #or\n",
        "lst.index(1) #if the start and end is the entire array"
      ],
      "metadata": {
        "colab": {
          "base_uri": "https://localhost:8080/"
        },
        "id": "syiRoqz9gniW",
        "outputId": "d31f2846-39d2-4d52-dabc-dd6b86a294b1"
      },
      "execution_count": 24,
      "outputs": [
        {
          "output_type": "execute_result",
          "data": {
            "text/plain": [
              "0"
            ]
          },
          "metadata": {},
          "execution_count": 24
        }
      ]
    },
    {
      "cell_type": "code",
      "source": [
        "lst*2 #multiply list into 2 times\n"
      ],
      "metadata": {
        "colab": {
          "base_uri": "https://localhost:8080/"
        },
        "id": "0WAYLuF3hTB1",
        "outputId": "258c7bb4-48e5-47e5-844f-7056f9be14f5"
      },
      "execution_count": 26,
      "outputs": [
        {
          "output_type": "execute_result",
          "data": {
            "text/plain": [
              "[1, 2, 3, 5, 6, 7, 8, 1, 2, 3, 5, 6, 7, 8]"
            ]
          },
          "metadata": {},
          "execution_count": 26
        }
      ]
    },
    {
      "cell_type": "markdown",
      "source": [
        "# **set**\n",
        "like a hash table"
      ],
      "metadata": {
        "id": "XUdRC73ciXbS"
      }
    },
    {
      "cell_type": "code",
      "source": [
        "#defining a set\n",
        "set_var=set()\n",
        "#adding elements\n",
        "set_var.add(1)\n",
        "set_var.add(2)\n",
        "set_var.add(3)\n",
        "set_var"
      ],
      "metadata": {
        "colab": {
          "base_uri": "https://localhost:8080/"
        },
        "id": "x5mnq6LOidyK",
        "outputId": "2f054686-0105-453c-dad1-ba9a4cfff8b4"
      },
      "execution_count": 30,
      "outputs": [
        {
          "output_type": "execute_result",
          "data": {
            "text/plain": [
              "{1, 2, 3}"
            ]
          },
          "metadata": {},
          "execution_count": 30
        }
      ]
    },
    {
      "cell_type": "code",
      "source": [
        "#set operations like difference unions and updates\n",
        "set1={1,2,3,4,5}\n",
        "set2={4,5,6,7}\n",
        "# 1 difference\n",
        "set1.difference(set2)"
      ],
      "metadata": {
        "colab": {
          "base_uri": "https://localhost:8080/"
        },
        "id": "Ldk6ux6jjDKb",
        "outputId": "1f6b1ede-ff6e-4184-866e-52436fae6c05"
      },
      "execution_count": 32,
      "outputs": [
        {
          "output_type": "execute_result",
          "data": {
            "text/plain": [
              "{1, 2, 3}"
            ]
          },
          "metadata": {},
          "execution_count": 32
        }
      ]
    },
    {
      "cell_type": "code",
      "source": [
        "#update the differnece in set\n",
        "set1.difference_update(set2)\n",
        "set1"
      ],
      "metadata": {
        "colab": {
          "base_uri": "https://localhost:8080/"
        },
        "id": "wADEzY1Xjba_",
        "outputId": "1d037db2-43e9-47a2-cae2-986e76075beb"
      },
      "execution_count": 34,
      "outputs": [
        {
          "output_type": "execute_result",
          "data": {
            "text/plain": [
              "{1, 2, 3}"
            ]
          },
          "metadata": {},
          "execution_count": 34
        }
      ]
    },
    {
      "cell_type": "code",
      "source": [
        "#similar;y for union intersection and other stuff"
      ],
      "metadata": {
        "id": "J73JHdY0jtWQ"
      },
      "execution_count": null,
      "outputs": []
    },
    {
      "cell_type": "markdown",
      "source": [
        "# **DICTIONARY**\n",
        "a simple thing like hash map key value pair"
      ],
      "metadata": {
        "id": "ylxd-hFIk1vK"
      }
    },
    {
      "cell_type": "code",
      "source": [
        "my_dict={}\n",
        "my_dict={'car1':'audi','car2':'alto','car3':'pexo'}\n",
        "my_dict\n"
      ],
      "metadata": {
        "colab": {
          "base_uri": "https://localhost:8080/"
        },
        "id": "6lCz1LHLk-Z3",
        "outputId": "91579059-1ac7-4fa5-b350-ad89de96bf0d"
      },
      "execution_count": 35,
      "outputs": [
        {
          "output_type": "execute_result",
          "data": {
            "text/plain": [
              "{'car1': 'audi', 'car2': 'alto', 'car3': 'pexo'}"
            ]
          },
          "metadata": {},
          "execution_count": 35
        }
      ]
    },
    {
      "cell_type": "code",
      "source": [
        "#to acces value use key\n",
        "my_dict['car1']"
      ],
      "metadata": {
        "colab": {
          "base_uri": "https://localhost:8080/",
          "height": 36
        },
        "id": "jZ8LiEo8lnGT",
        "outputId": "ef946ba5-2b16-48ae-b61b-fb69863c325d"
      },
      "execution_count": 36,
      "outputs": [
        {
          "output_type": "execute_result",
          "data": {
            "text/plain": [
              "'audi'"
            ],
            "application/vnd.google.colaboratory.intrinsic+json": {
              "type": "string"
            }
          },
          "metadata": {},
          "execution_count": 36
        }
      ]
    },
    {
      "cell_type": "code",
      "source": [
        "#to loop through dict keys\n",
        "for x in my_dict:\n",
        "   print(x)"
      ],
      "metadata": {
        "colab": {
          "base_uri": "https://localhost:8080/"
        },
        "id": "-qU7Py-el48v",
        "outputId": "ca2859e0-cabe-4ad0-d4b6-cf882f8f339a"
      },
      "execution_count": 38,
      "outputs": [
        {
          "output_type": "stream",
          "name": "stdout",
          "text": [
            "car1\n",
            "car2\n",
            "car3\n"
          ]
        }
      ]
    },
    {
      "cell_type": "code",
      "source": [
        "#to get values\n",
        "for x in my_dict.values():\n",
        "    print(x)"
      ],
      "metadata": {
        "colab": {
          "base_uri": "https://localhost:8080/"
        },
        "id": "FSiHLJ9-mKeM",
        "outputId": "54df04c2-6b1b-4730-ae25-d71b0a9a6536"
      },
      "execution_count": 39,
      "outputs": [
        {
          "output_type": "stream",
          "name": "stdout",
          "text": [
            "audi\n",
            "alto\n",
            "pexo\n"
          ]
        }
      ]
    },
    {
      "cell_type": "code",
      "source": [
        "#to get key and values together\n",
        "for x in my_dict.items():\n",
        "     print(x)"
      ],
      "metadata": {
        "colab": {
          "base_uri": "https://localhost:8080/"
        },
        "id": "WLKiETXFmSPX",
        "outputId": "ef18c2ae-05d7-4d06-fe14-c5bf94e347c2"
      },
      "execution_count": 40,
      "outputs": [
        {
          "output_type": "stream",
          "name": "stdout",
          "text": [
            "('car1', 'audi')\n",
            "('car2', 'alto')\n",
            "('car3', 'pexo')\n"
          ]
        }
      ]
    },
    {
      "cell_type": "code",
      "source": [
        "#adding items in dict\n",
        "my_dict['car4']=\"BENZ\"\n",
        "my_dict"
      ],
      "metadata": {
        "colab": {
          "base_uri": "https://localhost:8080/"
        },
        "id": "vedrgUJLmmSG",
        "outputId": "d3fa58e6-ec21-4f32-ef3b-86342b75161c"
      },
      "execution_count": 41,
      "outputs": [
        {
          "output_type": "execute_result",
          "data": {
            "text/plain": [
              "{'car1': 'audi', 'car2': 'alto', 'car3': 'pexo', 'car4': 'BENZ'}"
            ]
          },
          "metadata": {},
          "execution_count": 41
        }
      ]
    },
    {
      "cell_type": "markdown",
      "source": [
        "**NESTED DICTIONARY**"
      ],
      "metadata": {
        "id": "VKqCygEbnLwy"
      }
    },
    {
      "cell_type": "code",
      "source": [
        "map1={'mercury':\"hot\"}\n",
        "map2={'uranus':\"cool\"}\n",
        "map={'planet1':map1,'planet2':map2}\n",
        "map"
      ],
      "metadata": {
        "colab": {
          "base_uri": "https://localhost:8080/"
        },
        "id": "QvKvCxUqnStq",
        "outputId": "b927defc-84fa-43ad-e0d9-4811b5ceaf45"
      },
      "execution_count": 42,
      "outputs": [
        {
          "output_type": "execute_result",
          "data": {
            "text/plain": [
              "{'planet1': {'mercury': 'hot'}, 'planet2': {'uranus': 'cool'}}"
            ]
          },
          "metadata": {},
          "execution_count": 42
        }
      ]
    },
    {
      "cell_type": "code",
      "source": [
        "#to get hot how ?\n",
        "map['planet1']['mercury']"
      ],
      "metadata": {
        "colab": {
          "base_uri": "https://localhost:8080/",
          "height": 36
        },
        "id": "GeV6J5dDnmXp",
        "outputId": "d29e4a04-f5f6-4cc8-e4e2-2c88ecf86f27"
      },
      "execution_count": 43,
      "outputs": [
        {
          "output_type": "execute_result",
          "data": {
            "text/plain": [
              "'hot'"
            ],
            "application/vnd.google.colaboratory.intrinsic+json": {
              "type": "string"
            }
          },
          "metadata": {},
          "execution_count": 43
        }
      ]
    },
    {
      "cell_type": "markdown",
      "source": [
        "# Tuples\n",
        "in which the value does not changes either the whole is to be changed or none\n"
      ],
      "metadata": {
        "id": "IaIng7ODn8pY"
      }
    },
    {
      "cell_type": "code",
      "source": [
        "my_tup=tuple()\n",
        "my_tup=[\"satyam\",\"sattu\",\"jorawar\"]\n",
        "my_tup[0] # index retrieval\n",
        "\n",
        "my_tup=[\"dhera\",\"nath\"] # entirely changed\n",
        "my_tup\n"
      ],
      "metadata": {
        "colab": {
          "base_uri": "https://localhost:8080/"
        },
        "id": "PKD_HWWMn8Xc",
        "outputId": "91994767-b647-4eef-8fcd-eba4872130cd"
      },
      "execution_count": 46,
      "outputs": [
        {
          "output_type": "execute_result",
          "data": {
            "text/plain": [
              "['dhera', 'nath']"
            ]
          },
          "metadata": {},
          "execution_count": 46
        }
      ]
    }
  ]
}